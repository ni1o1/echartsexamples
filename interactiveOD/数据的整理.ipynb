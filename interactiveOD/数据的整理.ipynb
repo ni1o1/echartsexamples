{
 "cells": [
  {
   "cell_type": "code",
   "execution_count": 48,
   "metadata": {
    "ExecuteTime": {
     "end_time": "2021-09-01T07:46:10.080373Z",
     "start_time": "2021-09-01T07:46:10.065498Z"
    }
   },
   "outputs": [
    {
     "name": "stderr",
     "output_type": "stream",
     "text": [
      "<ipython-input-48-c0f794fa83c9>:4: SettingWithCopyWarning: \n",
      "A value is trying to be set on a copy of a slice from a DataFrame.\n",
      "Try using .loc[row_indexer,col_indexer] = value instead\n",
      "\n",
      "See the caveats in the documentation: https://pandas.pydata.org/pandas-docs/stable/user_guide/indexing.html#returning-a-view-versus-a-copy\n",
      "  od1['width'] = od1['count']/5000\n"
     ]
    }
   ],
   "source": [
    "import pandas as pd\n",
    "od = pd.read_csv(r'职住OD.csv')\n",
    "od1 = od[['居住地_市','就业地_市','count']]\n",
    "od1['width'] = od1['count']/5000"
   ]
  },
  {
   "cell_type": "code",
   "execution_count": 49,
   "metadata": {
    "ExecuteTime": {
     "end_time": "2021-09-01T07:46:10.380968Z",
     "start_time": "2021-09-01T07:46:10.229317Z"
    }
   },
   "outputs": [],
   "source": [
    "links = []\n",
    "for i in range(len(od1)):\n",
    "    r = od1.iloc[i]\n",
    "    links.append({'source':r['居住地_市'],\n",
    "                'target':r['就业地_市'],\n",
    "                 'value':float(r['count']),\n",
    "                 'lineStyle':{'width':float(r['width'])}\n",
    "                 })"
   ]
  },
  {
   "cell_type": "code",
   "execution_count": 56,
   "metadata": {
    "ExecuteTime": {
     "end_time": "2021-09-01T07:51:18.989436Z",
     "start_time": "2021-09-01T07:51:18.984970Z"
    }
   },
   "outputs": [],
   "source": []
  },
  {
   "cell_type": "code",
   "execution_count": 50,
   "metadata": {
    "ExecuteTime": {
     "end_time": "2021-09-01T07:46:10.390608Z",
     "start_time": "2021-09-01T07:46:10.382406Z"
    },
    "scrolled": true
   },
   "outputs": [],
   "source": [
    "nodeinfo = od.groupby(['居住地_省','居住地_市'])['count'].sum().reset_index()\n",
    "nodeinfo['size'] = nodeinfo['count']**0.5/5\n",
    "nodeinfo = nodeinfo.sort_values(by = ['count'],ascending = False)\n",
    "nodes = []\n",
    "for i in range(len(nodeinfo)):\n",
    "    r = nodeinfo.iloc[i]\n",
    "    nodes.append({'name':r['居住地_市'],\n",
    "                'category':r['居住地_省'],\n",
    "                 'value':float(r['count']),\n",
    "                 'symbolSize':float(r['size'])\n",
    "                 })"
   ]
  },
  {
   "cell_type": "code",
   "execution_count": 51,
   "metadata": {
    "ExecuteTime": {
     "end_time": "2021-09-01T07:46:10.522076Z",
     "start_time": "2021-09-01T07:46:10.519060Z"
    }
   },
   "outputs": [],
   "source": [
    "data = [links,nodes]"
   ]
  },
  {
   "cell_type": "code",
   "execution_count": 52,
   "metadata": {
    "ExecuteTime": {
     "end_time": "2021-09-01T07:46:10.755920Z",
     "start_time": "2021-09-01T07:46:10.696071Z"
    }
   },
   "outputs": [],
   "source": [
    "import json\n",
    "f = open(r'data.json',mode = 'w',encoding = 'utf-8')\n",
    "json.dump(data,f)\n",
    "f.close()"
   ]
  },
  {
   "cell_type": "code",
   "execution_count": null,
   "metadata": {},
   "outputs": [],
   "source": []
  }
 ],
 "metadata": {
  "kernelspec": {
   "display_name": "Python 3",
   "language": "python",
   "name": "python3"
  },
  "language_info": {
   "codemirror_mode": {
    "name": "ipython",
    "version": 3
   },
   "file_extension": ".py",
   "mimetype": "text/x-python",
   "name": "python",
   "nbconvert_exporter": "python",
   "pygments_lexer": "ipython3",
   "version": "3.8.5"
  },
  "toc": {
   "base_numbering": 1,
   "nav_menu": {},
   "number_sections": true,
   "sideBar": true,
   "skip_h1_title": false,
   "title_cell": "Table of Contents",
   "title_sidebar": "Contents",
   "toc_cell": false,
   "toc_position": {},
   "toc_section_display": true,
   "toc_window_display": false
  }
 },
 "nbformat": 4,
 "nbformat_minor": 4
}
